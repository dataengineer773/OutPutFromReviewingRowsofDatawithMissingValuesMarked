{
 "cells": [
  {
   "cell_type": "code",
   "execution_count": 1,
   "id": "e8d872e1-efc3-4ef6-9754-4e2cee76ff2b",
   "metadata": {},
   "outputs": [],
   "source": [
    "# marking missing values with nan values\n",
    "from numpy import nan\n",
    "from pandas import read_csv"
   ]
  },
  {
   "cell_type": "code",
   "execution_count": 2,
   "id": "996f9405-806e-413e-bb68-8224dd60a82e",
   "metadata": {},
   "outputs": [],
   "source": [
    "# load the dataset\n",
    "dataset = read_csv('diabetes.csv', header=None)"
   ]
  },
  {
   "cell_type": "code",
   "execution_count": 3,
   "id": "64e817e7-a39f-47d6-adc2-fc30911c72f6",
   "metadata": {},
   "outputs": [],
   "source": [
    "# replace '0' values with nan\n",
    "dataset[[1,2,3,4,5]] = dataset[[1,2,3,4,5,]].replace(0, nan)"
   ]
  },
  {
   "cell_type": "code",
   "execution_count": 4,
   "id": "bd868f48-cd87-490a-88c5-4d61d42f4565",
   "metadata": {},
   "outputs": [
    {
     "name": "stdout",
     "output_type": "stream",
     "text": [
      "              0        1              2              3        4     5  \\\n",
      "0   Pregnancies  Glucose  BloodPressure  SkinThickness  Insulin   BMI   \n",
      "1             6      148             72             35        0  33.6   \n",
      "2             1       85             66             29        0  26.6   \n",
      "3             8      183             64              0        0  23.3   \n",
      "4             1       89             66             23       94  28.1   \n",
      "5             0      137             40             35      168  43.1   \n",
      "6             5      116             74              0        0  25.6   \n",
      "7             3       78             50             32       88    31   \n",
      "8            10      115              0              0        0  35.3   \n",
      "9             2      197             70             45      543  30.5   \n",
      "10            8      125             96              0        0     0   \n",
      "11            4      110             92              0        0  37.6   \n",
      "12           10      168             74              0        0    38   \n",
      "13           10      139             80              0        0  27.1   \n",
      "14            1      189             60             23      846  30.1   \n",
      "15            5      166             72             19      175  25.8   \n",
      "16            7      100              0              0        0    30   \n",
      "17            0      118             84             47      230  45.8   \n",
      "18            7      107             74              0        0  29.6   \n",
      "19            1      103             30             38       83  43.3   \n",
      "\n",
      "                           6    7        8  \n",
      "0   DiabetesPedigreeFunction  Age  Outcome  \n",
      "1                      0.627   50        1  \n",
      "2                      0.351   31        0  \n",
      "3                      0.672   32        1  \n",
      "4                      0.167   21        0  \n",
      "5                      2.288   33        1  \n",
      "6                      0.201   30        0  \n",
      "7                      0.248   26        1  \n",
      "8                      0.134   29        0  \n",
      "9                      0.158   53        1  \n",
      "10                     0.232   54        1  \n",
      "11                     0.191   30        0  \n",
      "12                     0.537   34        1  \n",
      "13                     1.441   57        0  \n",
      "14                     0.398   59        1  \n",
      "15                     0.587   51        1  \n",
      "16                     0.484   32        1  \n",
      "17                     0.551   31        1  \n",
      "18                     0.254   31        1  \n",
      "19                     0.183   33        0  \n"
     ]
    }
   ],
   "source": [
    "# count the number of nan values in each column\n",
    "print(dataset.head(20))"
   ]
  },
  {
   "cell_type": "code",
   "execution_count": null,
   "id": "8bbfbcfa-994d-4575-82cb-cdb097b59001",
   "metadata": {},
   "outputs": [],
   "source": []
  },
  {
   "cell_type": "code",
   "execution_count": null,
   "id": "de197b4b-d909-4851-9e2a-ad76079a0149",
   "metadata": {},
   "outputs": [],
   "source": []
  }
 ],
 "metadata": {
  "kernelspec": {
   "display_name": "Python 3 (ipykernel)",
   "language": "python",
   "name": "python3"
  },
  "language_info": {
   "codemirror_mode": {
    "name": "ipython",
    "version": 3
   },
   "file_extension": ".py",
   "mimetype": "text/x-python",
   "name": "python",
   "nbconvert_exporter": "python",
   "pygments_lexer": "ipython3",
   "version": "3.10.12"
  }
 },
 "nbformat": 4,
 "nbformat_minor": 5
}
